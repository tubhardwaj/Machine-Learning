{
 "cells": [
  {
   "cell_type": "code",
   "execution_count": 6,
   "metadata": {},
   "outputs": [
    {
     "name": "stdout",
     "output_type": "stream",
     "text": [
      "Enter a date in YYYY-MM-DD format: 2020-08-07\n",
      "Customer Account id:dgui@fraud.com\n",
      "Event Type: PURCHASE\n",
      "            0                 1             2\n",
      "0  2015-01-01     joe@gmail.com      PURCHASE\n",
      "1  2015-02-01  shreya@fraud.com  FRAUD_REPORT\n",
      "2  2015-02-03  shreya@fraud.com  FRAUD_REPORT\n",
      "3  2015-02-03     joe@gmail.com      PURCHASE\n",
      "4  2020-02-09  shreya@fraud.com      PURCHASE\n",
      "5  2020-09-04     joe@gmail.com      PURCHASE\n",
      "6  2020-09-04     joe@gmail.com      PURCHASE\n",
      "7  2020-09-04  shreya@fraud.com      PURCHASE\n",
      "8  2022-05-16  andrew@fraud.com      Purchase\n",
      "9  2020-08-07    dgui@fraud.com      PURCHASE\n"
     ]
    }
   ],
   "source": [
    "import os\n",
    "import datetime\n",
    "import pandas as pd\n",
    "import csv\n",
    "from datetime import timedelta\n",
    "os.chdir('C:/Users/tusha/desktop/signifyd')\n",
    "\n",
    "date_entry = input('Enter a date in YYYY-MM-DD format: ')\n",
    "year, month, day = map(int, date_entry.split('-'))\n",
    "date1 = datetime.date(year, month, day)\n",
    "CUSTOMER_ACCOUNT_ID= input(\"Customer Account id:\")\n",
    "EVENT_TYPE= input(\"Event Type: \")\n",
    "\n",
    "with open('input.txt', 'a') as f:\n",
    "        f.writelines('{},{},{}'.format(date1,CUSTOMER_ACCOUNT_ID,EVENT_TYPE )+'\\n')\n",
    "#if EVENT_TYPE=='purchase':      \n",
    "   \n",
    "student_csv =  pd.read_csv('input.txt', header= None)\n",
    "print(student_csv)"
   ]
  },
  {
   "cell_type": "code",
   "execution_count": 7,
   "metadata": {},
   "outputs": [],
   "source": [
    "with open('input.txt','r') as fp:\n",
    "    data = fp.read()\n",
    "    occurrences = data.count(CUSTOMER_ACCOUNT_ID)\n",
    "    sub= student_csv[(student_csv[2]=='FRAUD_REPORT') & (student_csv[1]==CUSTOMER_ACCOUNT_ID)]\n",
    "    tdelta= timedelta(days=90)\n",
    "    thres_date = date1-tdelta\n",
    "    goku= student_csv[(student_csv[2]=='PURCHASE') & (student_csv[1]==CUSTOMER_ACCOUNT_ID)]\n",
    "    if EVENT_TYPE=='PURCHASE':\n",
    "        from datetime import datetime\n",
    "        tuple1= tuple(goku[0])\n",
    "        if occurrences==1:\n",
    "            print(date1,CUSTOMER_ACCOUNT_ID,'NO_HISTORY',file=open(\"output.txt\", \"a\"))\n",
    "        elif sub[2].isin(['FRAUD_REPORT']).sum() >0:\n",
    "            print(date1,CUSTOMER_ACCOUNT_ID,'FRAUD_HISTORY',':',sub[2].isin(['FRAUD_REPORT']).sum(),file=open(\"output.txt\", \"a\"))\n",
    "        else:\n",
    "            avail= True\n",
    "            for data in tuple1:\n",
    "                date_time_obj = datetime.strptime(data, '%Y-%m-%d').date()\n",
    "                if date_time_obj>thres_date:\n",
    "                    avail= False\n",
    "                break\n",
    "            if avail:\n",
    "                print(date1,CUSTOMER_ACCOUNT_ID,'GOOD_HISTORY',len(goku)-1,file=open(\"output.txt\", \"a\"))\n",
    "            else:\n",
    "                print(date1,CUSTOMER_ACCOUNT_ID,'UNCONFIRMED_HISTORY',len(goku)-1,file=open(\"output.txt\", \"a\"))\n",
    "                \n",
    "     \n",
    "   \n",
    "  \n",
    "    "
   ]
  },
  {
   "cell_type": "code",
   "execution_count": null,
   "metadata": {},
   "outputs": [],
   "source": []
  }
 ],
 "metadata": {
  "kernelspec": {
   "display_name": "Python 3",
   "language": "python",
   "name": "python3"
  },
  "language_info": {
   "codemirror_mode": {
    "name": "ipython",
    "version": 3
   },
   "file_extension": ".py",
   "mimetype": "text/x-python",
   "name": "python",
   "nbconvert_exporter": "python",
   "pygments_lexer": "ipython3",
   "version": "3.7.6"
  }
 },
 "nbformat": 4,
 "nbformat_minor": 4
}
